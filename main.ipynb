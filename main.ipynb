{
  "cells": [
    {
      "cell_type": "code",
      "execution_count": null,
      "metadata": {
        "id": "6545d266"
      },
      "outputs": [],
      "source": [
        "import pandas as pd\n",
        "import tensorflow as tf\n",
        "import numpy as np\n",
        "import pandas as pd\n",
        "import pickle\n",
        "import os\n",
        "import csv\n",
        "import cv2\n",
        "from skimage.feature import daisy\n",
        "from tqdm.notebook import tqdm"
      ],
      "id": "6545d266"
    },
    {
      "cell_type": "code",
      "execution_count": null,
      "metadata": {
        "colab": {
          "base_uri": "https://localhost:8080/"
        },
        "id": "f5AwWW-mfpMb",
        "outputId": "4fc0ad59-ca83-4df7-94f0-8b42b28a4de2"
      },
      "outputs": [
        {
          "output_type": "stream",
          "name": "stdout",
          "text": [
            "Drive already mounted at /content/drive; to attempt to forcibly remount, call drive.mount(\"/content/drive\", force_remount=True).\n"
          ]
        }
      ],
      "source": [
        "from google.colab import drive\n",
        "drive.mount('/content/drive')"
      ],
      "id": "f5AwWW-mfpMb"
    },
    {
      "cell_type": "code",
      "execution_count": null,
      "metadata": {
        "id": "995e9907"
      },
      "outputs": [],
      "source": [
        "from sklearn.cluster import KMeans\n",
        "from sklearn.model_selection import train_test_split\n",
        "from sklearn.metrics import classification_report\n",
        "from sklearn.metrics import accuracy_score, confusion_matrix\n",
        "from sklearn.tree import DecisionTreeClassifier\n",
        "import sklearn.metrics as metrics\n",
        "from sklearn.metrics import accuracy_score\n",
        "import matplotlib.pyplot as plt\n",
        "\n",
        "## pip install split-folders\n",
        "\n",
        "from tensorflow.keras.preprocessing.image import ImageDataGenerator\n",
        "from tensorflow.keras.preprocessing.image import img_to_array\n",
        "from tensorflow.keras.preprocessing.image import load_img"
      ],
      "id": "995e9907"
    },
    {
      "cell_type": "code",
      "execution_count": null,
      "metadata": {
        "id": "e9c97473"
      },
      "outputs": [],
      "source": [
        "input1 = r\"/content/drive/MyDrive/CP/v2/cvl\"\n",
        "input2 = r\"/content/drive/MyDrive/CP/v2/cvr\"\n",
        "input3 = r\"/content/drive/MyDrive/CP/v2/negative\"\n",
        "#ORB for input1"
      ],
      "id": "e9c97473"
    },
    {
      "cell_type": "code",
      "execution_count": null,
      "metadata": {
        "id": "a457d63d",
        "colab": {
          "base_uri": "https://localhost:8080/",
          "height": 49,
          "referenced_widgets": [
            "c839084b9cf440398c31ba3fe0059e60",
            "578dcfbdc35241b3b00c9f09586ccb21",
            "a35346efff8b4686a2b760b390bc333a",
            "4f8f2cb1327c4315ba3cdf925e8697b2",
            "ade0e1a45bab4e51bd3300f6b60ff387",
            "c6c662f8ab3245488c5ad34a887450d6",
            "92dfebbeae8e4eb08763b765de31a229",
            "d06889a5df6b4749be6a324b716d31cd",
            "e59af81e291547b7a4e32f79b8ec5c36",
            "c90a72bef1b34db9b8614e3f14446dd0",
            "b6d46c8e65f443b3894240ba1432d34c"
          ]
        },
        "outputId": "92d38368-9e8b-44db-bcd9-0cbc102e92dd"
      },
      "outputs": [
        {
          "output_type": "display_data",
          "data": {
            "text/plain": [
              "  0%|          | 0/60 [00:00<?, ?it/s]"
            ],
            "application/vnd.jupyter.widget-view+json": {
              "version_major": 2,
              "version_minor": 0,
              "model_id": "c839084b9cf440398c31ba3fe0059e60"
            }
          },
          "metadata": {}
        }
      ],
      "source": [
        "\n",
        "i=0\n",
        "for filename in tqdm(os.listdir(input1), total=len(os.listdir(input1))):\n",
        "\n",
        "    path=os.path.join(input1,filename)\n",
        "    img=cv2.imread(path)\n",
        "    \n",
        "    #initialise sift descriptor\n",
        "    #sift = cv2.SIFT_create()\n",
        "    ORB = cv2.ORB_create()\n",
        "    keypoints = ORB.detect(img, None)\n",
        "    gray_img = cv2.cvtColor(img, cv2.COLOR_BGR2GRAY)\n",
        "\n",
        "    #sift = cv2.xfeatures2d.SIFT_create()\n",
        "    # uncomment below line for ORB\n",
        "    # keypoints, descriptors = ORB.compute(img, keypoints)\n",
        "    descriptors = daisy(gray_img, visualize=False)\n",
        "    \n",
        "    #convert the descriptor array into a dataframe format\n",
        "    np_decs =np.reshape(descriptors,(descriptors.shape[0]*descriptors.shape[1],descriptors.shape[2]))\n",
        "    out=pd.DataFrame(np_decs)\n",
        "    for col in out.columns:\n",
        "      out[col] = out[col].astype(\"float16\")\n",
        "    #print(\"descriptor shape \",i,\" : \", out.shape)\n",
        "    i=i+1\n",
        "    \n",
        "    #drop first coloumn as it's the no of feature detected. Not required.append to the csv file\n",
        "    csv_data=out.to_csv('left_sift.csv', mode='a', header=False,index=False)"
      ],
      "id": "a457d63d"
    },
    {
      "cell_type": "code",
      "execution_count": null,
      "metadata": {
        "id": "GLi0mpNTlxgI"
      },
      "outputs": [],
      "source": [
        "df = pd.read_csv('/content/left_sift.csv')\n"
      ],
      "id": "GLi0mpNTlxgI"
    },
    {
      "cell_type": "code",
      "execution_count": null,
      "metadata": {
        "id": "WGAwiTUUmwC3",
        "colab": {
          "base_uri": "https://localhost:8080/"
        },
        "outputId": "6e3b3bbf-5837-4fca-f9f3-41da8e761c08"
      },
      "outputs": [
        {
          "output_type": "stream",
          "name": "stdout",
          "text": [
            "0.007637     float64\n",
            "0.005516     float64\n",
            "0.002666     float64\n",
            "0.001372     float64\n",
            "0.001608     float64\n",
            "              ...   \n",
            "0.0016985    float64\n",
            "0.001857     float64\n",
            "0.001931     float64\n",
            "0.003632     float64\n",
            "0.01102      float64\n",
            "Length: 200, dtype: object\n"
          ]
        }
      ],
      "source": [
        "print(df.dtypes)"
      ],
      "id": "WGAwiTUUmwC3"
    },
    {
      "cell_type": "code",
      "execution_count": null,
      "metadata": {
        "id": "d8464e0f",
        "colab": {
          "base_uri": "https://localhost:8080/",
          "height": 49,
          "referenced_widgets": [
            "de062b8b43ec4501b0326fbd0d8e1271",
            "9f49f5c62edb4f4481c256f8507c4834",
            "3a9a9b667b1b41d58d579cd9af1cc437",
            "8dd3142e46f4455fb5fb5ed3250e64b8",
            "742d94d638004335b115f0be39f5f0b3",
            "20b094d2b7e34bb0906e6999387bbfa9",
            "42b7e90260ce4ac28aa2631d3954a199",
            "efa857e0703545f7ba6bdd24c415ef05",
            "b5919ca3d0274b24a69f5c419e97e973",
            "5ae35bcb34324ed2b9e746dfbe94ee14",
            "5f3b5f46ecaf434192fbaff9e9fc94ea"
          ]
        },
        "outputId": "a83a41d8-bfcc-4051-a464-1cf7a0105554"
      },
      "outputs": [
        {
          "output_type": "display_data",
          "data": {
            "text/plain": [
              "  0%|          | 0/16 [00:00<?, ?it/s]"
            ],
            "application/vnd.jupyter.widget-view+json": {
              "version_major": 2,
              "version_minor": 0,
              "model_id": "de062b8b43ec4501b0326fbd0d8e1271"
            }
          },
          "metadata": {}
        }
      ],
      "source": [
        "\n",
        "i=0\n",
        "for filename in tqdm(os.listdir(input2), total=len(os.listdir(input2))):\n",
        "\n",
        "    path=os.path.join(input2,filename)\n",
        "    img=cv2.imread(path)\n",
        "    \n",
        "    #initialise sift descriptor\n",
        "    #sift = cv2.SIFT_create()\n",
        "    ORB = cv2.ORB_create()\n",
        "    keypoints = ORB.detect(img, None)\n",
        "    gray_img = cv2.cvtColor(img, cv2.COLOR_BGR2GRAY)\n",
        "\n",
        "    #sift = cv2.xfeatures2d.SIFT_create()\n",
        "    # uncomment below line for ORB\n",
        "    # keypoints, descriptors = ORB.compute(img, keypoints)\n",
        "    descriptors = daisy(gray_img, visualize=False)\n",
        "    \n",
        "    #convert the descriptor array into a dataframe format\n",
        "    np_decs =np.reshape(descriptors,(descriptors.shape[0]*descriptors.shape[1],descriptors.shape[2]))\n",
        "    out=pd.DataFrame(np_decs)\n",
        "    for col in out.columns:\n",
        "      out[col] = out[col].astype(\"float16\")\n",
        "    #print(\"descriptor shape \",i,\" : \", out.shape)\n",
        "    i=i+1\n",
        "    \n",
        "    #drop first coloumn as it's the no of feature detected. Not required.append to the csv file\n",
        "    csv_data=out.to_csv('right_ORB.csv', mode='a', header=False,index=False)"
      ],
      "id": "d8464e0f"
    },
    {
      "cell_type": "code",
      "execution_count": null,
      "metadata": {
        "id": "6528b3f9",
        "colab": {
          "base_uri": "https://localhost:8080/",
          "height": 49,
          "referenced_widgets": [
            "c2b697c5976f495f8754bbf31d53e014",
            "6be4b39fc4bf4ffea0f2abe2d89ae58b",
            "d03f0e7db53443d5b46135bafda3bb3f",
            "87fc20087737456ab8fa2150ab04168b",
            "87f66372ba204272bd85ebc683a0a1a4",
            "fefc88ee545345f392245dc3daddf9d5",
            "5268cdfd15294b618a77551716f0050c",
            "929b25a196954f3780933f08ec830226",
            "4edf3424b8f8488996dce09a790fa1d6",
            "183b70b6cfa244998e18cf45385571fc",
            "b81261090b264bfa9626c285fd4108a7"
          ]
        },
        "outputId": "33040def-1c77-440c-9177-e114e52e425c"
      },
      "outputs": [
        {
          "output_type": "display_data",
          "data": {
            "text/plain": [
              "  0%|          | 0/19 [00:00<?, ?it/s]"
            ],
            "application/vnd.jupyter.widget-view+json": {
              "version_major": 2,
              "version_minor": 0,
              "model_id": "c2b697c5976f495f8754bbf31d53e014"
            }
          },
          "metadata": {}
        }
      ],
      "source": [
        "i=0\n",
        "for filename in tqdm(os.listdir(input3), total=len(os.listdir(input3))):\n",
        "\n",
        "    path=os.path.join(input3,filename)\n",
        "    img=cv2.imread(path)\n",
        "    \n",
        "    #initialise sift descriptor\n",
        "    #sift = cv2.SIFT_create()\n",
        "    ORB = cv2.ORB_create()\n",
        "    keypoints = ORB.detect(img, None)\n",
        "    gray_img = cv2.cvtColor(img, cv2.COLOR_BGR2GRAY)\n",
        "\n",
        "    #sift = cv2.xfeatures2d.SIFT_create()\n",
        "    # uncomment below line for ORB\n",
        "    # keypoints, descriptors = ORB.compute(img, keypoints)\n",
        "    descriptors = daisy(gray_img, visualize=False)\n",
        "    \n",
        "    #convert the descriptor array into a dataframe format\n",
        "    np_decs =np.reshape(descriptors,(descriptors.shape[0]*descriptors.shape[1],descriptors.shape[2]))\n",
        "    out=pd.DataFrame(np_decs)\n",
        "    for col in out.columns:\n",
        "      out[col] = out[col].astype(\"float16\")\n",
        "    #print(\"descriptor shape \",i,\" : \", out.shape)\n",
        "    i=i+1\n",
        "    \n",
        "    #drop first coloumn as it's the no of feature detected. Not required.append to the csv file\n",
        "    csv_data=out.to_csv('negative_ORB.csv', mode='a', header=False,index=False)"
      ],
      "id": "6528b3f9"
    },
    {
      "cell_type": "code",
      "execution_count": null,
      "metadata": {
        "id": "5dbb94cf",
        "colab": {
          "base_uri": "https://localhost:8080/",
          "height": 252
        },
        "outputId": "e370f8e5-06da-4711-d729-58bdeb68682c"
      },
      "outputs": [
        {
          "output_type": "error",
          "ename": "NameError",
          "evalue": "ignored",
          "traceback": [
            "\u001b[0;31m---------------------------------------------------------------------------\u001b[0m",
            "\u001b[0;31mNameError\u001b[0m                                 Traceback (most recent call last)",
            "\u001b[0;32m<ipython-input-1-3a2a548efb3d>\u001b[0m in \u001b[0;36m<module>\u001b[0;34m()\u001b[0m\n\u001b[0;32m----> 1\u001b[0;31m \u001b[0mdata1\u001b[0m \u001b[0;34m=\u001b[0m \u001b[0mpd\u001b[0m\u001b[0;34m.\u001b[0m\u001b[0mread_csv\u001b[0m\u001b[0;34m(\u001b[0m\u001b[0;34mr'left_sift.csv'\u001b[0m\u001b[0;34m,\u001b[0m\u001b[0mheader\u001b[0m\u001b[0;34m=\u001b[0m\u001b[0;32mNone\u001b[0m\u001b[0;34m,\u001b[0m\u001b[0mdtype\u001b[0m\u001b[0;34m=\u001b[0m\u001b[0;34m'float16'\u001b[0m\u001b[0;34m)\u001b[0m\u001b[0;34m\u001b[0m\u001b[0;34m\u001b[0m\u001b[0m\n\u001b[0m\u001b[1;32m      2\u001b[0m \u001b[0;31m#MemoryError: Unable to allocate 166. MiB for an array with shape (128, 169606) and data type float64,\u001b[0m\u001b[0;34m\u001b[0m\u001b[0;34m\u001b[0m\u001b[0;34m\u001b[0m\u001b[0m\n\u001b[1;32m      3\u001b[0m \u001b[0;31m#Double-precision floating-point format\u001b[0m\u001b[0;34m\u001b[0m\u001b[0;34m\u001b[0m\u001b[0;34m\u001b[0m\u001b[0m\n\u001b[1;32m      4\u001b[0m \u001b[0;34m\u001b[0m\u001b[0m\n\u001b[1;32m      5\u001b[0m \u001b[0mdata1\u001b[0m\u001b[0;34m=\u001b[0m\u001b[0mdata1\u001b[0m\u001b[0;34m.\u001b[0m\u001b[0mastype\u001b[0m\u001b[0;34m(\u001b[0m\u001b[0mnp\u001b[0m\u001b[0;34m.\u001b[0m\u001b[0mfloat16\u001b[0m\u001b[0;34m)\u001b[0m\u001b[0;34m\u001b[0m\u001b[0;34m\u001b[0m\u001b[0m\n",
            "\u001b[0;31mNameError\u001b[0m: name 'pd' is not defined"
          ]
        }
      ],
      "source": [
        "data1 = pd.read_csv(r'left_sift.csv',header=None,dtype='float16')\n",
        "#MemoryError: Unable to allocate 166. MiB for an array with shape (128, 169606) and data type float64,\n",
        "#Double-precision floating-point format\n",
        "\n",
        "data1=data1.astype(np.float16) \n",
        "#as unit8 contain 1 byte(8bit) and ranges from 0 to 255\n",
        "data1"
      ],
      "id": "5dbb94cf"
    },
    {
      "cell_type": "code",
      "execution_count": null,
      "metadata": {
        "id": "4caf7e52"
      },
      "outputs": [],
      "source": [
        "data2= pd.read_csv(r'right_ORB.csv',header=None,dtype='float16')\n",
        "data2=data2.astype(np.float16)\n",
        "data2"
      ],
      "id": "4caf7e52"
    },
    {
      "cell_type": "code",
      "execution_count": null,
      "metadata": {
        "id": "8424739b"
      },
      "outputs": [],
      "source": [
        "data3= pd.read_csv(r'negative_ORB.csv',header=None,dtype='float16')\n",
        "data3 = data3.astype(np.float16)\n",
        "data3"
      ],
      "id": "8424739b"
    },
    {
      "cell_type": "code",
      "execution_count": null,
      "metadata": {
        "id": "265f64af"
      },
      "outputs": [],
      "source": [
        "data=data1.append(data2)#appending both the dataframes of extracted features and storing it in csv\n",
        "data=data.append(data3)"
      ],
      "id": "265f64af"
    },
    {
      "cell_type": "code",
      "execution_count": null,
      "metadata": {
        "id": "f2413032"
      },
      "outputs": [],
      "source": [
        "csv_data=data.to_csv('ORB_Final.csv', mode='a', header=False,index=False)"
      ],
      "id": "f2413032"
    },
    {
      "cell_type": "code",
      "execution_count": null,
      "metadata": {
        "id": "4d02fa49"
      },
      "outputs": [],
      "source": [
        "data = pd.read_csv('ORB_Final.csv')\n"
      ],
      "id": "4d02fa49"
    },
    {
      "cell_type": "markdown",
      "metadata": {
        "id": "f681b9f3"
      },
      "source": [
        "# KMeans\n"
      ],
      "id": "f681b9f3"
    },
    {
      "cell_type": "code",
      "source": [
        "import sklearn.cluster as cluster\n",
        "import seaborn as sns\n",
        "K=range(1,10)\n",
        "wss = []\n",
        "for k in K:\n",
        "    kmeans=cluster.KMeans(n_clusters=k,init=\"k-means++\")\n",
        "    kmeans=kmeans.fit(data)\n",
        "    wss_iter = kmeans.inertia_\n",
        "    wss.append(wss_iter)\n",
        "\n",
        "mycenters = pd.DataFrame({'Clusters' : K, 'WSS' : wss})\n",
        "mycenters\n",
        "sns.scatterplot(x = 'Clusters', y = 'WSS', data = mycenters, marker=\"+\")\n"
      ],
      "metadata": {
        "id": "oEPZv5b1t_vo"
      },
      "id": "oEPZv5b1t_vo",
      "execution_count": null,
      "outputs": []
    },
    {
      "cell_type": "code",
      "execution_count": null,
      "metadata": {
        "id": "592b62e1"
      },
      "outputs": [],
      "source": [
        "distortions = []\n",
        "K = range(1,10)\n",
        "for k in K:\n",
        "    kmeanModel = KMeans(n_clusters=k)\n",
        "    kmeanModel.fit(data)\n",
        "    distortions.append(kmeanModel.inertia_)"
      ],
      "id": "592b62e1"
    },
    {
      "cell_type": "code",
      "execution_count": null,
      "metadata": {
        "id": "7a7dc50f"
      },
      "outputs": [],
      "source": [
        "import matplotlib.pyplot as plt\n",
        "plt.figure(figsize=(16,8))\n",
        "plt.plot(K, distortions, 'bx-')\n",
        "plt.xlabel('k')\n",
        "plt.ylabel('Distortion')\n",
        "plt.title('The Elbow Method showing the optimal k')\n",
        "plt.show()"
      ],
      "id": "7a7dc50f"
    },
    {
      "cell_type": "code",
      "execution_count": null,
      "metadata": {
        "id": "c6f8de0b"
      },
      "outputs": [],
      "source": [
        "kmeans = KMeans(n_clusters=16)\n",
        "kmeans.fit(data)"
      ],
      "id": "c6f8de0b"
    },
    {
      "cell_type": "code",
      "execution_count": null,
      "metadata": {
        "id": "0b54a463"
      },
      "outputs": [],
      "source": [
        "i=0\n",
        "data=[]\n",
        "\n",
        "for filename in os.listdir(input1):\n",
        "    path=os.path.join(input1,filename)\n",
        "    a=cv2.imread(path)\n",
        "    resize=(100,200)\n",
        "    img=cv2.resize(a,resize)\n",
        "    gray_img = cv2.cvtColor(img, cv2.COLOR_BGR2GRAY)\n",
        "    ORB = cv2.ORB_create()\n",
        "    keypoints = ORB.detect(img, None)\n",
        "    #sift = cv2.xfeatures2d.SIFT_create()\n",
        "    # keypoints, descriptors = ORB.compute(img, keypoints)\n",
        "    descriptors = daisy(gray_img, visualize=False)\n",
        "    \n",
        "    #convert the descriptor array into a dataframe format\n",
        "    out=pd.DataFrame(descriptors)\n",
        "    \n",
        "    array_double = np.array(out, dtype=np.double)\n",
        "    if (array_double.any() == 0):\n",
        "        continue\n",
        "    a=kmeans.predict(array_double)\n",
        "    \n",
        "    hist=np.histogram(a,bins=[0,1,2,3,4,5,6,7,8,9,10,11,12,13,14,15,16])\n",
        "    #append the dataframe into the array in append mode, the array will only have 5 values which will store the values in a row\n",
        "    data.append(hist[0])\n",
        "    \n",
        "#convert Array to Dataframe and append to the list\n",
        "Output = pd.DataFrame(data)\n",
        "#add row class \n",
        "Output[\"Class\"] = i \n",
        "csv_data=Output.to_csv('lprediction.csv', mode='a', index=False)"
      ],
      "id": "0b54a463"
    },
    {
      "cell_type": "code",
      "execution_count": null,
      "metadata": {
        "id": "fbc75709"
      },
      "outputs": [],
      "source": [
        "i=1\n",
        "data=[]\n",
        "\n",
        "for filename in os.listdir(input2):\n",
        "    path=os.path.join(input2,filename)\n",
        "    a=cv2.imread(path)\n",
        "    resize=(100,200)\n",
        "    img=cv2.resize(a,resize)\n",
        "    gray_img = cv2.cvtColor(img, cv2.COLOR_BGR2GRAY)\n",
        "    ORB = cv2.ORB_create()\n",
        "    keypoints = ORB.detect(img, None)\n",
        "    #sift = cv2.xfeatures2d.SIFT_create()\n",
        "    # keypoints, descriptors = ORB.compute(img, keypoints)\n",
        "    descriptors = daisy(gray_img, visualize=False)\n",
        "\n",
        "    \n",
        "    #convert the descriptor array into a dataframe format\n",
        "    out=pd.DataFrame(descriptors)\n",
        "    \n",
        "    array_double = np.array(out, dtype=np.double)\n",
        "    if (array_double.any() == 0):\n",
        "        continue\n",
        "    a=kmeans.predict(array_double)\n",
        "    \n",
        "    hist=np.histogram(a,bins=[0,1,2,3,4,5,6,7,8,9,10,11,12,13,14,15,16])\n",
        "    #append the dataframe into the array in append mode, the array will only have 5 values which will store the values in a row\n",
        "    data.append(hist[0])\n",
        "    \n",
        "#convert Array to Dataframe and append to the list\n",
        "Output = pd.DataFrame(data)\n",
        "#add row class \n",
        "Output[\"Class\"] = i \n",
        "csv_data=Output.to_csv('rprediction.csv', mode='a', index=False)"
      ],
      "id": "fbc75709"
    },
    {
      "cell_type": "code",
      "execution_count": null,
      "metadata": {
        "id": "6e15b07b"
      },
      "outputs": [],
      "source": [
        "i=2\n",
        "data=[]\n",
        "\n",
        "for filename in os.listdir(input3):\n",
        "    path=os.path.join(input3,filename)\n",
        "    a=cv2.imread(path)\n",
        "    resize=(100,200)\n",
        "    img=cv2.resize(a,resize)\n",
        "    gray_img = cv2.cvtColor(img, cv2.COLOR_BGR2GRAY)\n",
        "    ORB = cv2.ORB_create()\n",
        "    keypoints = ORB.detect(img, None)\n",
        "    #sift = cv2.xfeatures2d.SIFT_create()\n",
        "    # keypoints, descriptors = ORB.compute(img, keypoints)\n",
        "    descriptors = daisy(gray_img, visualize=False)\n",
        "\n",
        "    #convert the descriptor array into a dataframe format\n",
        "    out=pd.DataFrame(descriptors)\n",
        "\n",
        "    array_double = np.array(out, dtype=np.double)\n",
        "    if (array_double.any() == 0):\n",
        "        continue\n",
        "    a=kmeans.predict(array_double)\n",
        "    \n",
        "    hist=np.histogram(a,bins=[0,1,2,3,4,5,6,7,8,9,10,11,12,13,14,15,16])\n",
        "    #append the dataframe into the array in append mode, the array will only have 5 values which will store the values in a row\n",
        "    data.append(hist[0])\n",
        "    \n",
        "#convert Array to Dataframe and append to the list\n",
        "Output = pd.DataFrame(data)\n",
        "#add row class \n",
        "Output[\"Class\"] = i \n",
        "csv_data=Output.to_csv('negativeprediction.csv', mode='a', index=False)"
      ],
      "id": "6e15b07b"
    },
    {
      "cell_type": "code",
      "execution_count": null,
      "metadata": {
        "id": "078a334b"
      },
      "outputs": [],
      "source": [
        "print(\"Left Images\")\n",
        "dat1= pd.read_csv('lprediction.csv')\n",
        "print(dat1)"
      ],
      "id": "078a334b"
    },
    {
      "cell_type": "code",
      "execution_count": null,
      "metadata": {
        "id": "72b59cad"
      },
      "outputs": [],
      "source": [
        "print(\"Right Images\")\n",
        "dat2= pd.read_csv('rprediction.csv')\n",
        "print(dat2)"
      ],
      "id": "72b59cad"
    },
    {
      "cell_type": "code",
      "execution_count": null,
      "metadata": {
        "id": "0e093d82"
      },
      "outputs": [],
      "source": [
        "print(\"Negative Images\")\n",
        "dat3= pd.read_csv('negativeprediction.csv')\n",
        "print(dat3)"
      ],
      "id": "0e093d82"
    },
    {
      "cell_type": "code",
      "execution_count": null,
      "metadata": {
        "id": "293126a5"
      },
      "outputs": [],
      "source": [
        "A=dat1.append(dat2)\n",
        "A=A.append(dat3)\n",
        "csv_data=A.to_csv('AFinal.csv', mode='a',header=False,index=False)"
      ],
      "id": "293126a5"
    },
    {
      "cell_type": "code",
      "execution_count": null,
      "metadata": {
        "id": "00de1b2b"
      },
      "outputs": [],
      "source": [
        "A"
      ],
      "id": "00de1b2b"
    },
    {
      "cell_type": "code",
      "execution_count": null,
      "metadata": {
        "id": "5112ee0d"
      },
      "outputs": [],
      "source": [
        "x = A.iloc[:,0:16].values"
      ],
      "id": "5112ee0d"
    },
    {
      "cell_type": "code",
      "execution_count": null,
      "metadata": {
        "id": "c1c023d7"
      },
      "outputs": [],
      "source": [
        "x"
      ],
      "id": "c1c023d7"
    },
    {
      "cell_type": "code",
      "execution_count": null,
      "metadata": {
        "id": "8ff9178a"
      },
      "outputs": [],
      "source": [
        "y = A.iloc[:,16].values"
      ],
      "id": "8ff9178a"
    },
    {
      "cell_type": "code",
      "execution_count": null,
      "metadata": {
        "id": "1d9b9f4e"
      },
      "outputs": [],
      "source": [
        "y"
      ],
      "id": "1d9b9f4e"
    },
    {
      "cell_type": "code",
      "execution_count": null,
      "metadata": {
        "id": "44274468"
      },
      "outputs": [],
      "source": [
        "from sklearn.preprocessing import StandardScaler#importing standard scaler to standardize the x(cluster) values to a smaller range\n",
        "scaler = StandardScaler()\n",
        "D = scaler.fit_transform(x)"
      ],
      "id": "44274468"
    },
    {
      "cell_type": "code",
      "execution_count": null,
      "metadata": {
        "id": "baaf057b"
      },
      "outputs": [],
      "source": [
        "from sklearn.decomposition import PCA\n",
        "pca = PCA(n_components=None)\n",
        "pca.fit(D)"
      ],
      "id": "baaf057b"
    },
    {
      "cell_type": "code",
      "execution_count": null,
      "metadata": {
        "id": "368b89eb"
      },
      "outputs": [],
      "source": [
        "b = pca.transform(D)"
      ],
      "id": "368b89eb"
    },
    {
      "cell_type": "code",
      "execution_count": null,
      "metadata": {
        "id": "00565447"
      },
      "outputs": [],
      "source": [
        "b"
      ],
      "id": "00565447"
    },
    {
      "cell_type": "code",
      "execution_count": null,
      "metadata": {
        "id": "abf28eb3"
      },
      "outputs": [],
      "source": [
        "b = pd.DataFrame(b)"
      ],
      "id": "abf28eb3"
    },
    {
      "cell_type": "code",
      "execution_count": null,
      "metadata": {
        "id": "3ec66ea2"
      },
      "outputs": [],
      "source": [
        "b"
      ],
      "id": "3ec66ea2"
    },
    {
      "cell_type": "code",
      "execution_count": null,
      "metadata": {
        "id": "0d7f82db"
      },
      "outputs": [],
      "source": [
        "b.shape"
      ],
      "id": "0d7f82db"
    },
    {
      "cell_type": "code",
      "execution_count": null,
      "metadata": {
        "id": "00b48ee4"
      },
      "outputs": [],
      "source": [
        "print(pca.explained_variance_ratio_) "
      ],
      "id": "00b48ee4"
    },
    {
      "cell_type": "code",
      "execution_count": null,
      "metadata": {
        "id": "7c17a8f1"
      },
      "outputs": [],
      "source": [
        "pca = PCA(n_components=16)\n",
        "pca.fit(D)"
      ],
      "id": "7c17a8f1"
    },
    {
      "cell_type": "code",
      "execution_count": null,
      "metadata": {
        "id": "56cfab56"
      },
      "outputs": [],
      "source": [
        "import pickle\n",
        "filename = 'PCA_3_Model.sav'\n",
        "pickle.dump(kmeans, open(filename, 'wb'))"
      ],
      "id": "56cfab56"
    },
    {
      "cell_type": "code",
      "execution_count": null,
      "metadata": {
        "id": "b838c212"
      },
      "outputs": [],
      "source": [
        "b = pca.transform(D)\n",
        "b"
      ],
      "id": "b838c212"
    },
    {
      "cell_type": "code",
      "execution_count": null,
      "metadata": {
        "id": "bf36a084"
      },
      "outputs": [],
      "source": [
        "b.shape"
      ],
      "id": "bf36a084"
    },
    {
      "cell_type": "code",
      "execution_count": null,
      "metadata": {
        "id": "a3c197e3"
      },
      "outputs": [],
      "source": [
        "print(pca.explained_variance_ratio_)"
      ],
      "id": "a3c197e3"
    },
    {
      "cell_type": "code",
      "execution_count": null,
      "metadata": {
        "id": "f9a7013a"
      },
      "outputs": [],
      "source": [
        "b = pd.DataFrame(b)"
      ],
      "id": "f9a7013a"
    },
    {
      "cell_type": "code",
      "execution_count": null,
      "metadata": {
        "id": "9c5f641d"
      },
      "outputs": [],
      "source": [
        "b"
      ],
      "id": "9c5f641d"
    },
    {
      "cell_type": "code",
      "execution_count": null,
      "metadata": {
        "id": "6d3f7c5f"
      },
      "outputs": [],
      "source": [
        "B=pd.concat([b, pd.DataFrame(y)],axis=1)"
      ],
      "id": "6d3f7c5f"
    },
    {
      "cell_type": "code",
      "execution_count": null,
      "metadata": {
        "id": "4ebc47e5"
      },
      "outputs": [],
      "source": [
        "B"
      ],
      "id": "4ebc47e5"
    },
    {
      "cell_type": "code",
      "execution_count": null,
      "metadata": {
        "id": "adfba99d"
      },
      "outputs": [],
      "source": [
        "csv_data=B.to_csv('FinalPCA.csv', mode='a',header=False,index=False)"
      ],
      "id": "adfba99d"
    },
    {
      "cell_type": "code",
      "execution_count": null,
      "metadata": {
        "id": "cb43f097"
      },
      "outputs": [],
      "source": [
        "data= pd.read_csv(r'FinalPCA.csv',header=None)\n",
        "\n",
        "data"
      ],
      "id": "cb43f097"
    },
    {
      "cell_type": "code",
      "execution_count": null,
      "metadata": {
        "id": "e3467f18"
      },
      "outputs": [],
      "source": [
        "#assigning x the columns from 1 to 128 for training\n",
        "x = data.iloc[:,0:16].values\n",
        "print(\"X values\")\n",
        "print(x)\n",
        "\n",
        "#assigning y with the column \"Class\" as target variable\n",
        "y = data.iloc[:,16]\n",
        "print(\"Y values\")\n",
        "print(y)"
      ],
      "id": "e3467f18"
    },
    {
      "cell_type": "code",
      "execution_count": null,
      "metadata": {
        "id": "e555baf2"
      },
      "outputs": [],
      "source": [
        "x_train, x_test, y_train, y_test = train_test_split(x, y, test_size=.20, random_state=0)"
      ],
      "id": "e555baf2"
    },
    {
      "cell_type": "code",
      "execution_count": null,
      "metadata": {
        "id": "827aa3ce"
      },
      "outputs": [],
      "source": [
        "from sklearn.metrics import accuracy_score\n",
        "model1 = DecisionTreeClassifier(max_depth=13)\n",
        "model1.fit(x_train, y_train)\n",
        "y_pred1 = model1.predict(x_test)\n",
        "print(\"Decision Tree Results\")\n",
        "print(\"Train Accuracy:\",model1.score(x_train, y_train))\n",
        "print(\"Test Accuracy:\",model1.score(x_test, y_test))"
      ],
      "id": "827aa3ce"
    },
    {
      "cell_type": "code",
      "execution_count": null,
      "metadata": {
        "id": "11372ac0"
      },
      "outputs": [],
      "source": [
        "from sklearn.ensemble import RandomForestClassifier\n",
        "model2 = RandomForestClassifier(n_estimators = 100)\n",
        "model2.fit(x_train, y_train)\n",
        "y_pred2 = model2.predict(x_test)\n",
        "print(\"Random Forest Clasifier\")\n",
        "print(\"Train Accuracy:\",model2.score(x_train, y_train))\n",
        "print(\"Test Accuracy:\",model2.score(x_test, y_test))"
      ],
      "id": "11372ac0"
    },
    {
      "cell_type": "code",
      "execution_count": null,
      "metadata": {
        "id": "132c3052"
      },
      "outputs": [],
      "source": [
        "from sklearn.neighbors import KNeighborsClassifier\n",
        "model3 = KNeighborsClassifier(n_neighbors = 5)\n",
        "model3.fit(x_train, y_train)\n",
        "y_pred3 = model3.predict(x_test)\n",
        "print(\"KNN\")\n",
        "print(\"Train Accuracy:\",model3.score(x_train, y_train))\n",
        "print(\"Test Accuracy:\",model3.score(x_test, y_test))"
      ],
      "id": "132c3052"
    },
    {
      "cell_type": "code",
      "execution_count": null,
      "metadata": {
        "id": "63e84f7b"
      },
      "outputs": [],
      "source": [
        ""
      ],
      "id": "63e84f7b"
    }
  ],
  "metadata": {
    "accelerator": "GPU",
    "colab": {
      "name": "main.ipynb",
      "provenance": []
    },
    "interpreter": {
      "hash": "31f2aee4e71d21fbe5cf8b01ff0e069b9275f58929596ceb00d14d90e3e16cd6"
    },
    "kernelspec": {
      "display_name": "Python 3.10.4 64-bit",
      "language": "python",
      "name": "python3"
    },
    "language_info": {
      "codemirror_mode": {
        "name": "ipython",
        "version": 3
      },
      "file_extension": ".py",
      "mimetype": "text/x-python",
      "name": "python",
      "nbconvert_exporter": "python",
      "pygments_lexer": "ipython3",
      "version": "3.10.4"
    },
    "widgets": {
      "application/vnd.jupyter.widget-state+json": {
        "c839084b9cf440398c31ba3fe0059e60": {
          "model_module": "@jupyter-widgets/controls",
          "model_name": "HBoxModel",
          "model_module_version": "1.5.0",
          "state": {
            "_dom_classes": [],
            "_model_module": "@jupyter-widgets/controls",
            "_model_module_version": "1.5.0",
            "_model_name": "HBoxModel",
            "_view_count": null,
            "_view_module": "@jupyter-widgets/controls",
            "_view_module_version": "1.5.0",
            "_view_name": "HBoxView",
            "box_style": "",
            "children": [
              "IPY_MODEL_578dcfbdc35241b3b00c9f09586ccb21",
              "IPY_MODEL_a35346efff8b4686a2b760b390bc333a",
              "IPY_MODEL_4f8f2cb1327c4315ba3cdf925e8697b2"
            ],
            "layout": "IPY_MODEL_ade0e1a45bab4e51bd3300f6b60ff387"
          }
        },
        "578dcfbdc35241b3b00c9f09586ccb21": {
          "model_module": "@jupyter-widgets/controls",
          "model_name": "HTMLModel",
          "model_module_version": "1.5.0",
          "state": {
            "_dom_classes": [],
            "_model_module": "@jupyter-widgets/controls",
            "_model_module_version": "1.5.0",
            "_model_name": "HTMLModel",
            "_view_count": null,
            "_view_module": "@jupyter-widgets/controls",
            "_view_module_version": "1.5.0",
            "_view_name": "HTMLView",
            "description": "",
            "description_tooltip": null,
            "layout": "IPY_MODEL_c6c662f8ab3245488c5ad34a887450d6",
            "placeholder": "​",
            "style": "IPY_MODEL_92dfebbeae8e4eb08763b765de31a229",
            "value": "100%"
          }
        },
        "a35346efff8b4686a2b760b390bc333a": {
          "model_module": "@jupyter-widgets/controls",
          "model_name": "FloatProgressModel",
          "model_module_version": "1.5.0",
          "state": {
            "_dom_classes": [],
            "_model_module": "@jupyter-widgets/controls",
            "_model_module_version": "1.5.0",
            "_model_name": "FloatProgressModel",
            "_view_count": null,
            "_view_module": "@jupyter-widgets/controls",
            "_view_module_version": "1.5.0",
            "_view_name": "ProgressView",
            "bar_style": "success",
            "description": "",
            "description_tooltip": null,
            "layout": "IPY_MODEL_d06889a5df6b4749be6a324b716d31cd",
            "max": 60,
            "min": 0,
            "orientation": "horizontal",
            "style": "IPY_MODEL_e59af81e291547b7a4e32f79b8ec5c36",
            "value": 60
          }
        },
        "4f8f2cb1327c4315ba3cdf925e8697b2": {
          "model_module": "@jupyter-widgets/controls",
          "model_name": "HTMLModel",
          "model_module_version": "1.5.0",
          "state": {
            "_dom_classes": [],
            "_model_module": "@jupyter-widgets/controls",
            "_model_module_version": "1.5.0",
            "_model_name": "HTMLModel",
            "_view_count": null,
            "_view_module": "@jupyter-widgets/controls",
            "_view_module_version": "1.5.0",
            "_view_name": "HTMLView",
            "description": "",
            "description_tooltip": null,
            "layout": "IPY_MODEL_c90a72bef1b34db9b8614e3f14446dd0",
            "placeholder": "​",
            "style": "IPY_MODEL_b6d46c8e65f443b3894240ba1432d34c",
            "value": " 60/60 [04:06&lt;00:00, 13.80s/it]"
          }
        },
        "ade0e1a45bab4e51bd3300f6b60ff387": {
          "model_module": "@jupyter-widgets/base",
          "model_name": "LayoutModel",
          "model_module_version": "1.2.0",
          "state": {
            "_model_module": "@jupyter-widgets/base",
            "_model_module_version": "1.2.0",
            "_model_name": "LayoutModel",
            "_view_count": null,
            "_view_module": "@jupyter-widgets/base",
            "_view_module_version": "1.2.0",
            "_view_name": "LayoutView",
            "align_content": null,
            "align_items": null,
            "align_self": null,
            "border": null,
            "bottom": null,
            "display": null,
            "flex": null,
            "flex_flow": null,
            "grid_area": null,
            "grid_auto_columns": null,
            "grid_auto_flow": null,
            "grid_auto_rows": null,
            "grid_column": null,
            "grid_gap": null,
            "grid_row": null,
            "grid_template_areas": null,
            "grid_template_columns": null,
            "grid_template_rows": null,
            "height": null,
            "justify_content": null,
            "justify_items": null,
            "left": null,
            "margin": null,
            "max_height": null,
            "max_width": null,
            "min_height": null,
            "min_width": null,
            "object_fit": null,
            "object_position": null,
            "order": null,
            "overflow": null,
            "overflow_x": null,
            "overflow_y": null,
            "padding": null,
            "right": null,
            "top": null,
            "visibility": null,
            "width": null
          }
        },
        "c6c662f8ab3245488c5ad34a887450d6": {
          "model_module": "@jupyter-widgets/base",
          "model_name": "LayoutModel",
          "model_module_version": "1.2.0",
          "state": {
            "_model_module": "@jupyter-widgets/base",
            "_model_module_version": "1.2.0",
            "_model_name": "LayoutModel",
            "_view_count": null,
            "_view_module": "@jupyter-widgets/base",
            "_view_module_version": "1.2.0",
            "_view_name": "LayoutView",
            "align_content": null,
            "align_items": null,
            "align_self": null,
            "border": null,
            "bottom": null,
            "display": null,
            "flex": null,
            "flex_flow": null,
            "grid_area": null,
            "grid_auto_columns": null,
            "grid_auto_flow": null,
            "grid_auto_rows": null,
            "grid_column": null,
            "grid_gap": null,
            "grid_row": null,
            "grid_template_areas": null,
            "grid_template_columns": null,
            "grid_template_rows": null,
            "height": null,
            "justify_content": null,
            "justify_items": null,
            "left": null,
            "margin": null,
            "max_height": null,
            "max_width": null,
            "min_height": null,
            "min_width": null,
            "object_fit": null,
            "object_position": null,
            "order": null,
            "overflow": null,
            "overflow_x": null,
            "overflow_y": null,
            "padding": null,
            "right": null,
            "top": null,
            "visibility": null,
            "width": null
          }
        },
        "92dfebbeae8e4eb08763b765de31a229": {
          "model_module": "@jupyter-widgets/controls",
          "model_name": "DescriptionStyleModel",
          "model_module_version": "1.5.0",
          "state": {
            "_model_module": "@jupyter-widgets/controls",
            "_model_module_version": "1.5.0",
            "_model_name": "DescriptionStyleModel",
            "_view_count": null,
            "_view_module": "@jupyter-widgets/base",
            "_view_module_version": "1.2.0",
            "_view_name": "StyleView",
            "description_width": ""
          }
        },
        "d06889a5df6b4749be6a324b716d31cd": {
          "model_module": "@jupyter-widgets/base",
          "model_name": "LayoutModel",
          "model_module_version": "1.2.0",
          "state": {
            "_model_module": "@jupyter-widgets/base",
            "_model_module_version": "1.2.0",
            "_model_name": "LayoutModel",
            "_view_count": null,
            "_view_module": "@jupyter-widgets/base",
            "_view_module_version": "1.2.0",
            "_view_name": "LayoutView",
            "align_content": null,
            "align_items": null,
            "align_self": null,
            "border": null,
            "bottom": null,
            "display": null,
            "flex": null,
            "flex_flow": null,
            "grid_area": null,
            "grid_auto_columns": null,
            "grid_auto_flow": null,
            "grid_auto_rows": null,
            "grid_column": null,
            "grid_gap": null,
            "grid_row": null,
            "grid_template_areas": null,
            "grid_template_columns": null,
            "grid_template_rows": null,
            "height": null,
            "justify_content": null,
            "justify_items": null,
            "left": null,
            "margin": null,
            "max_height": null,
            "max_width": null,
            "min_height": null,
            "min_width": null,
            "object_fit": null,
            "object_position": null,
            "order": null,
            "overflow": null,
            "overflow_x": null,
            "overflow_y": null,
            "padding": null,
            "right": null,
            "top": null,
            "visibility": null,
            "width": null
          }
        },
        "e59af81e291547b7a4e32f79b8ec5c36": {
          "model_module": "@jupyter-widgets/controls",
          "model_name": "ProgressStyleModel",
          "model_module_version": "1.5.0",
          "state": {
            "_model_module": "@jupyter-widgets/controls",
            "_model_module_version": "1.5.0",
            "_model_name": "ProgressStyleModel",
            "_view_count": null,
            "_view_module": "@jupyter-widgets/base",
            "_view_module_version": "1.2.0",
            "_view_name": "StyleView",
            "bar_color": null,
            "description_width": ""
          }
        },
        "c90a72bef1b34db9b8614e3f14446dd0": {
          "model_module": "@jupyter-widgets/base",
          "model_name": "LayoutModel",
          "model_module_version": "1.2.0",
          "state": {
            "_model_module": "@jupyter-widgets/base",
            "_model_module_version": "1.2.0",
            "_model_name": "LayoutModel",
            "_view_count": null,
            "_view_module": "@jupyter-widgets/base",
            "_view_module_version": "1.2.0",
            "_view_name": "LayoutView",
            "align_content": null,
            "align_items": null,
            "align_self": null,
            "border": null,
            "bottom": null,
            "display": null,
            "flex": null,
            "flex_flow": null,
            "grid_area": null,
            "grid_auto_columns": null,
            "grid_auto_flow": null,
            "grid_auto_rows": null,
            "grid_column": null,
            "grid_gap": null,
            "grid_row": null,
            "grid_template_areas": null,
            "grid_template_columns": null,
            "grid_template_rows": null,
            "height": null,
            "justify_content": null,
            "justify_items": null,
            "left": null,
            "margin": null,
            "max_height": null,
            "max_width": null,
            "min_height": null,
            "min_width": null,
            "object_fit": null,
            "object_position": null,
            "order": null,
            "overflow": null,
            "overflow_x": null,
            "overflow_y": null,
            "padding": null,
            "right": null,
            "top": null,
            "visibility": null,
            "width": null
          }
        },
        "b6d46c8e65f443b3894240ba1432d34c": {
          "model_module": "@jupyter-widgets/controls",
          "model_name": "DescriptionStyleModel",
          "model_module_version": "1.5.0",
          "state": {
            "_model_module": "@jupyter-widgets/controls",
            "_model_module_version": "1.5.0",
            "_model_name": "DescriptionStyleModel",
            "_view_count": null,
            "_view_module": "@jupyter-widgets/base",
            "_view_module_version": "1.2.0",
            "_view_name": "StyleView",
            "description_width": ""
          }
        },
        "de062b8b43ec4501b0326fbd0d8e1271": {
          "model_module": "@jupyter-widgets/controls",
          "model_name": "HBoxModel",
          "model_module_version": "1.5.0",
          "state": {
            "_dom_classes": [],
            "_model_module": "@jupyter-widgets/controls",
            "_model_module_version": "1.5.0",
            "_model_name": "HBoxModel",
            "_view_count": null,
            "_view_module": "@jupyter-widgets/controls",
            "_view_module_version": "1.5.0",
            "_view_name": "HBoxView",
            "box_style": "",
            "children": [
              "IPY_MODEL_9f49f5c62edb4f4481c256f8507c4834",
              "IPY_MODEL_3a9a9b667b1b41d58d579cd9af1cc437",
              "IPY_MODEL_8dd3142e46f4455fb5fb5ed3250e64b8"
            ],
            "layout": "IPY_MODEL_742d94d638004335b115f0be39f5f0b3"
          }
        },
        "9f49f5c62edb4f4481c256f8507c4834": {
          "model_module": "@jupyter-widgets/controls",
          "model_name": "HTMLModel",
          "model_module_version": "1.5.0",
          "state": {
            "_dom_classes": [],
            "_model_module": "@jupyter-widgets/controls",
            "_model_module_version": "1.5.0",
            "_model_name": "HTMLModel",
            "_view_count": null,
            "_view_module": "@jupyter-widgets/controls",
            "_view_module_version": "1.5.0",
            "_view_name": "HTMLView",
            "description": "",
            "description_tooltip": null,
            "layout": "IPY_MODEL_20b094d2b7e34bb0906e6999387bbfa9",
            "placeholder": "​",
            "style": "IPY_MODEL_42b7e90260ce4ac28aa2631d3954a199",
            "value": " 94%"
          }
        },
        "3a9a9b667b1b41d58d579cd9af1cc437": {
          "model_module": "@jupyter-widgets/controls",
          "model_name": "FloatProgressModel",
          "model_module_version": "1.5.0",
          "state": {
            "_dom_classes": [],
            "_model_module": "@jupyter-widgets/controls",
            "_model_module_version": "1.5.0",
            "_model_name": "FloatProgressModel",
            "_view_count": null,
            "_view_module": "@jupyter-widgets/controls",
            "_view_module_version": "1.5.0",
            "_view_name": "ProgressView",
            "bar_style": "",
            "description": "",
            "description_tooltip": null,
            "layout": "IPY_MODEL_efa857e0703545f7ba6bdd24c415ef05",
            "max": 16,
            "min": 0,
            "orientation": "horizontal",
            "style": "IPY_MODEL_b5919ca3d0274b24a69f5c419e97e973",
            "value": 15
          }
        },
        "8dd3142e46f4455fb5fb5ed3250e64b8": {
          "model_module": "@jupyter-widgets/controls",
          "model_name": "HTMLModel",
          "model_module_version": "1.5.0",
          "state": {
            "_dom_classes": [],
            "_model_module": "@jupyter-widgets/controls",
            "_model_module_version": "1.5.0",
            "_model_name": "HTMLModel",
            "_view_count": null,
            "_view_module": "@jupyter-widgets/controls",
            "_view_module_version": "1.5.0",
            "_view_name": "HTMLView",
            "description": "",
            "description_tooltip": null,
            "layout": "IPY_MODEL_5ae35bcb34324ed2b9e746dfbe94ee14",
            "placeholder": "​",
            "style": "IPY_MODEL_5f3b5f46ecaf434192fbaff9e9fc94ea",
            "value": " 15/16 [00:25&lt;00:03,  3.39s/it]"
          }
        },
        "742d94d638004335b115f0be39f5f0b3": {
          "model_module": "@jupyter-widgets/base",
          "model_name": "LayoutModel",
          "model_module_version": "1.2.0",
          "state": {
            "_model_module": "@jupyter-widgets/base",
            "_model_module_version": "1.2.0",
            "_model_name": "LayoutModel",
            "_view_count": null,
            "_view_module": "@jupyter-widgets/base",
            "_view_module_version": "1.2.0",
            "_view_name": "LayoutView",
            "align_content": null,
            "align_items": null,
            "align_self": null,
            "border": null,
            "bottom": null,
            "display": null,
            "flex": null,
            "flex_flow": null,
            "grid_area": null,
            "grid_auto_columns": null,
            "grid_auto_flow": null,
            "grid_auto_rows": null,
            "grid_column": null,
            "grid_gap": null,
            "grid_row": null,
            "grid_template_areas": null,
            "grid_template_columns": null,
            "grid_template_rows": null,
            "height": null,
            "justify_content": null,
            "justify_items": null,
            "left": null,
            "margin": null,
            "max_height": null,
            "max_width": null,
            "min_height": null,
            "min_width": null,
            "object_fit": null,
            "object_position": null,
            "order": null,
            "overflow": null,
            "overflow_x": null,
            "overflow_y": null,
            "padding": null,
            "right": null,
            "top": null,
            "visibility": null,
            "width": null
          }
        },
        "20b094d2b7e34bb0906e6999387bbfa9": {
          "model_module": "@jupyter-widgets/base",
          "model_name": "LayoutModel",
          "model_module_version": "1.2.0",
          "state": {
            "_model_module": "@jupyter-widgets/base",
            "_model_module_version": "1.2.0",
            "_model_name": "LayoutModel",
            "_view_count": null,
            "_view_module": "@jupyter-widgets/base",
            "_view_module_version": "1.2.0",
            "_view_name": "LayoutView",
            "align_content": null,
            "align_items": null,
            "align_self": null,
            "border": null,
            "bottom": null,
            "display": null,
            "flex": null,
            "flex_flow": null,
            "grid_area": null,
            "grid_auto_columns": null,
            "grid_auto_flow": null,
            "grid_auto_rows": null,
            "grid_column": null,
            "grid_gap": null,
            "grid_row": null,
            "grid_template_areas": null,
            "grid_template_columns": null,
            "grid_template_rows": null,
            "height": null,
            "justify_content": null,
            "justify_items": null,
            "left": null,
            "margin": null,
            "max_height": null,
            "max_width": null,
            "min_height": null,
            "min_width": null,
            "object_fit": null,
            "object_position": null,
            "order": null,
            "overflow": null,
            "overflow_x": null,
            "overflow_y": null,
            "padding": null,
            "right": null,
            "top": null,
            "visibility": null,
            "width": null
          }
        },
        "42b7e90260ce4ac28aa2631d3954a199": {
          "model_module": "@jupyter-widgets/controls",
          "model_name": "DescriptionStyleModel",
          "model_module_version": "1.5.0",
          "state": {
            "_model_module": "@jupyter-widgets/controls",
            "_model_module_version": "1.5.0",
            "_model_name": "DescriptionStyleModel",
            "_view_count": null,
            "_view_module": "@jupyter-widgets/base",
            "_view_module_version": "1.2.0",
            "_view_name": "StyleView",
            "description_width": ""
          }
        },
        "efa857e0703545f7ba6bdd24c415ef05": {
          "model_module": "@jupyter-widgets/base",
          "model_name": "LayoutModel",
          "model_module_version": "1.2.0",
          "state": {
            "_model_module": "@jupyter-widgets/base",
            "_model_module_version": "1.2.0",
            "_model_name": "LayoutModel",
            "_view_count": null,
            "_view_module": "@jupyter-widgets/base",
            "_view_module_version": "1.2.0",
            "_view_name": "LayoutView",
            "align_content": null,
            "align_items": null,
            "align_self": null,
            "border": null,
            "bottom": null,
            "display": null,
            "flex": null,
            "flex_flow": null,
            "grid_area": null,
            "grid_auto_columns": null,
            "grid_auto_flow": null,
            "grid_auto_rows": null,
            "grid_column": null,
            "grid_gap": null,
            "grid_row": null,
            "grid_template_areas": null,
            "grid_template_columns": null,
            "grid_template_rows": null,
            "height": null,
            "justify_content": null,
            "justify_items": null,
            "left": null,
            "margin": null,
            "max_height": null,
            "max_width": null,
            "min_height": null,
            "min_width": null,
            "object_fit": null,
            "object_position": null,
            "order": null,
            "overflow": null,
            "overflow_x": null,
            "overflow_y": null,
            "padding": null,
            "right": null,
            "top": null,
            "visibility": null,
            "width": null
          }
        },
        "b5919ca3d0274b24a69f5c419e97e973": {
          "model_module": "@jupyter-widgets/controls",
          "model_name": "ProgressStyleModel",
          "model_module_version": "1.5.0",
          "state": {
            "_model_module": "@jupyter-widgets/controls",
            "_model_module_version": "1.5.0",
            "_model_name": "ProgressStyleModel",
            "_view_count": null,
            "_view_module": "@jupyter-widgets/base",
            "_view_module_version": "1.2.0",
            "_view_name": "StyleView",
            "bar_color": null,
            "description_width": ""
          }
        },
        "5ae35bcb34324ed2b9e746dfbe94ee14": {
          "model_module": "@jupyter-widgets/base",
          "model_name": "LayoutModel",
          "model_module_version": "1.2.0",
          "state": {
            "_model_module": "@jupyter-widgets/base",
            "_model_module_version": "1.2.0",
            "_model_name": "LayoutModel",
            "_view_count": null,
            "_view_module": "@jupyter-widgets/base",
            "_view_module_version": "1.2.0",
            "_view_name": "LayoutView",
            "align_content": null,
            "align_items": null,
            "align_self": null,
            "border": null,
            "bottom": null,
            "display": null,
            "flex": null,
            "flex_flow": null,
            "grid_area": null,
            "grid_auto_columns": null,
            "grid_auto_flow": null,
            "grid_auto_rows": null,
            "grid_column": null,
            "grid_gap": null,
            "grid_row": null,
            "grid_template_areas": null,
            "grid_template_columns": null,
            "grid_template_rows": null,
            "height": null,
            "justify_content": null,
            "justify_items": null,
            "left": null,
            "margin": null,
            "max_height": null,
            "max_width": null,
            "min_height": null,
            "min_width": null,
            "object_fit": null,
            "object_position": null,
            "order": null,
            "overflow": null,
            "overflow_x": null,
            "overflow_y": null,
            "padding": null,
            "right": null,
            "top": null,
            "visibility": null,
            "width": null
          }
        },
        "5f3b5f46ecaf434192fbaff9e9fc94ea": {
          "model_module": "@jupyter-widgets/controls",
          "model_name": "DescriptionStyleModel",
          "model_module_version": "1.5.0",
          "state": {
            "_model_module": "@jupyter-widgets/controls",
            "_model_module_version": "1.5.0",
            "_model_name": "DescriptionStyleModel",
            "_view_count": null,
            "_view_module": "@jupyter-widgets/base",
            "_view_module_version": "1.2.0",
            "_view_name": "StyleView",
            "description_width": ""
          }
        },
        "c2b697c5976f495f8754bbf31d53e014": {
          "model_module": "@jupyter-widgets/controls",
          "model_name": "HBoxModel",
          "model_module_version": "1.5.0",
          "state": {
            "_dom_classes": [],
            "_model_module": "@jupyter-widgets/controls",
            "_model_module_version": "1.5.0",
            "_model_name": "HBoxModel",
            "_view_count": null,
            "_view_module": "@jupyter-widgets/controls",
            "_view_module_version": "1.5.0",
            "_view_name": "HBoxView",
            "box_style": "",
            "children": [
              "IPY_MODEL_6be4b39fc4bf4ffea0f2abe2d89ae58b",
              "IPY_MODEL_d03f0e7db53443d5b46135bafda3bb3f",
              "IPY_MODEL_87fc20087737456ab8fa2150ab04168b"
            ],
            "layout": "IPY_MODEL_87f66372ba204272bd85ebc683a0a1a4"
          }
        },
        "6be4b39fc4bf4ffea0f2abe2d89ae58b": {
          "model_module": "@jupyter-widgets/controls",
          "model_name": "HTMLModel",
          "model_module_version": "1.5.0",
          "state": {
            "_dom_classes": [],
            "_model_module": "@jupyter-widgets/controls",
            "_model_module_version": "1.5.0",
            "_model_name": "HTMLModel",
            "_view_count": null,
            "_view_module": "@jupyter-widgets/controls",
            "_view_module_version": "1.5.0",
            "_view_name": "HTMLView",
            "description": "",
            "description_tooltip": null,
            "layout": "IPY_MODEL_fefc88ee545345f392245dc3daddf9d5",
            "placeholder": "​",
            "style": "IPY_MODEL_5268cdfd15294b618a77551716f0050c",
            "value": " 42%"
          }
        },
        "d03f0e7db53443d5b46135bafda3bb3f": {
          "model_module": "@jupyter-widgets/controls",
          "model_name": "FloatProgressModel",
          "model_module_version": "1.5.0",
          "state": {
            "_dom_classes": [],
            "_model_module": "@jupyter-widgets/controls",
            "_model_module_version": "1.5.0",
            "_model_name": "FloatProgressModel",
            "_view_count": null,
            "_view_module": "@jupyter-widgets/controls",
            "_view_module_version": "1.5.0",
            "_view_name": "ProgressView",
            "bar_style": "",
            "description": "",
            "description_tooltip": null,
            "layout": "IPY_MODEL_929b25a196954f3780933f08ec830226",
            "max": 19,
            "min": 0,
            "orientation": "horizontal",
            "style": "IPY_MODEL_4edf3424b8f8488996dce09a790fa1d6",
            "value": 8
          }
        },
        "87fc20087737456ab8fa2150ab04168b": {
          "model_module": "@jupyter-widgets/controls",
          "model_name": "HTMLModel",
          "model_module_version": "1.5.0",
          "state": {
            "_dom_classes": [],
            "_model_module": "@jupyter-widgets/controls",
            "_model_module_version": "1.5.0",
            "_model_name": "HTMLModel",
            "_view_count": null,
            "_view_module": "@jupyter-widgets/controls",
            "_view_module_version": "1.5.0",
            "_view_name": "HTMLView",
            "description": "",
            "description_tooltip": null,
            "layout": "IPY_MODEL_183b70b6cfa244998e18cf45385571fc",
            "placeholder": "​",
            "style": "IPY_MODEL_b81261090b264bfa9626c285fd4108a7",
            "value": " 8/19 [00:13&lt;00:17,  1.56s/it]"
          }
        },
        "87f66372ba204272bd85ebc683a0a1a4": {
          "model_module": "@jupyter-widgets/base",
          "model_name": "LayoutModel",
          "model_module_version": "1.2.0",
          "state": {
            "_model_module": "@jupyter-widgets/base",
            "_model_module_version": "1.2.0",
            "_model_name": "LayoutModel",
            "_view_count": null,
            "_view_module": "@jupyter-widgets/base",
            "_view_module_version": "1.2.0",
            "_view_name": "LayoutView",
            "align_content": null,
            "align_items": null,
            "align_self": null,
            "border": null,
            "bottom": null,
            "display": null,
            "flex": null,
            "flex_flow": null,
            "grid_area": null,
            "grid_auto_columns": null,
            "grid_auto_flow": null,
            "grid_auto_rows": null,
            "grid_column": null,
            "grid_gap": null,
            "grid_row": null,
            "grid_template_areas": null,
            "grid_template_columns": null,
            "grid_template_rows": null,
            "height": null,
            "justify_content": null,
            "justify_items": null,
            "left": null,
            "margin": null,
            "max_height": null,
            "max_width": null,
            "min_height": null,
            "min_width": null,
            "object_fit": null,
            "object_position": null,
            "order": null,
            "overflow": null,
            "overflow_x": null,
            "overflow_y": null,
            "padding": null,
            "right": null,
            "top": null,
            "visibility": null,
            "width": null
          }
        },
        "fefc88ee545345f392245dc3daddf9d5": {
          "model_module": "@jupyter-widgets/base",
          "model_name": "LayoutModel",
          "model_module_version": "1.2.0",
          "state": {
            "_model_module": "@jupyter-widgets/base",
            "_model_module_version": "1.2.0",
            "_model_name": "LayoutModel",
            "_view_count": null,
            "_view_module": "@jupyter-widgets/base",
            "_view_module_version": "1.2.0",
            "_view_name": "LayoutView",
            "align_content": null,
            "align_items": null,
            "align_self": null,
            "border": null,
            "bottom": null,
            "display": null,
            "flex": null,
            "flex_flow": null,
            "grid_area": null,
            "grid_auto_columns": null,
            "grid_auto_flow": null,
            "grid_auto_rows": null,
            "grid_column": null,
            "grid_gap": null,
            "grid_row": null,
            "grid_template_areas": null,
            "grid_template_columns": null,
            "grid_template_rows": null,
            "height": null,
            "justify_content": null,
            "justify_items": null,
            "left": null,
            "margin": null,
            "max_height": null,
            "max_width": null,
            "min_height": null,
            "min_width": null,
            "object_fit": null,
            "object_position": null,
            "order": null,
            "overflow": null,
            "overflow_x": null,
            "overflow_y": null,
            "padding": null,
            "right": null,
            "top": null,
            "visibility": null,
            "width": null
          }
        },
        "5268cdfd15294b618a77551716f0050c": {
          "model_module": "@jupyter-widgets/controls",
          "model_name": "DescriptionStyleModel",
          "model_module_version": "1.5.0",
          "state": {
            "_model_module": "@jupyter-widgets/controls",
            "_model_module_version": "1.5.0",
            "_model_name": "DescriptionStyleModel",
            "_view_count": null,
            "_view_module": "@jupyter-widgets/base",
            "_view_module_version": "1.2.0",
            "_view_name": "StyleView",
            "description_width": ""
          }
        },
        "929b25a196954f3780933f08ec830226": {
          "model_module": "@jupyter-widgets/base",
          "model_name": "LayoutModel",
          "model_module_version": "1.2.0",
          "state": {
            "_model_module": "@jupyter-widgets/base",
            "_model_module_version": "1.2.0",
            "_model_name": "LayoutModel",
            "_view_count": null,
            "_view_module": "@jupyter-widgets/base",
            "_view_module_version": "1.2.0",
            "_view_name": "LayoutView",
            "align_content": null,
            "align_items": null,
            "align_self": null,
            "border": null,
            "bottom": null,
            "display": null,
            "flex": null,
            "flex_flow": null,
            "grid_area": null,
            "grid_auto_columns": null,
            "grid_auto_flow": null,
            "grid_auto_rows": null,
            "grid_column": null,
            "grid_gap": null,
            "grid_row": null,
            "grid_template_areas": null,
            "grid_template_columns": null,
            "grid_template_rows": null,
            "height": null,
            "justify_content": null,
            "justify_items": null,
            "left": null,
            "margin": null,
            "max_height": null,
            "max_width": null,
            "min_height": null,
            "min_width": null,
            "object_fit": null,
            "object_position": null,
            "order": null,
            "overflow": null,
            "overflow_x": null,
            "overflow_y": null,
            "padding": null,
            "right": null,
            "top": null,
            "visibility": null,
            "width": null
          }
        },
        "4edf3424b8f8488996dce09a790fa1d6": {
          "model_module": "@jupyter-widgets/controls",
          "model_name": "ProgressStyleModel",
          "model_module_version": "1.5.0",
          "state": {
            "_model_module": "@jupyter-widgets/controls",
            "_model_module_version": "1.5.0",
            "_model_name": "ProgressStyleModel",
            "_view_count": null,
            "_view_module": "@jupyter-widgets/base",
            "_view_module_version": "1.2.0",
            "_view_name": "StyleView",
            "bar_color": null,
            "description_width": ""
          }
        },
        "183b70b6cfa244998e18cf45385571fc": {
          "model_module": "@jupyter-widgets/base",
          "model_name": "LayoutModel",
          "model_module_version": "1.2.0",
          "state": {
            "_model_module": "@jupyter-widgets/base",
            "_model_module_version": "1.2.0",
            "_model_name": "LayoutModel",
            "_view_count": null,
            "_view_module": "@jupyter-widgets/base",
            "_view_module_version": "1.2.0",
            "_view_name": "LayoutView",
            "align_content": null,
            "align_items": null,
            "align_self": null,
            "border": null,
            "bottom": null,
            "display": null,
            "flex": null,
            "flex_flow": null,
            "grid_area": null,
            "grid_auto_columns": null,
            "grid_auto_flow": null,
            "grid_auto_rows": null,
            "grid_column": null,
            "grid_gap": null,
            "grid_row": null,
            "grid_template_areas": null,
            "grid_template_columns": null,
            "grid_template_rows": null,
            "height": null,
            "justify_content": null,
            "justify_items": null,
            "left": null,
            "margin": null,
            "max_height": null,
            "max_width": null,
            "min_height": null,
            "min_width": null,
            "object_fit": null,
            "object_position": null,
            "order": null,
            "overflow": null,
            "overflow_x": null,
            "overflow_y": null,
            "padding": null,
            "right": null,
            "top": null,
            "visibility": null,
            "width": null
          }
        },
        "b81261090b264bfa9626c285fd4108a7": {
          "model_module": "@jupyter-widgets/controls",
          "model_name": "DescriptionStyleModel",
          "model_module_version": "1.5.0",
          "state": {
            "_model_module": "@jupyter-widgets/controls",
            "_model_module_version": "1.5.0",
            "_model_name": "DescriptionStyleModel",
            "_view_count": null,
            "_view_module": "@jupyter-widgets/base",
            "_view_module_version": "1.2.0",
            "_view_name": "StyleView",
            "description_width": ""
          }
        }
      }
    }
  },
  "nbformat": 4,
  "nbformat_minor": 5
}